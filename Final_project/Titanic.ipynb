{
 "cells": [
  {
   "cell_type": "code",
   "execution_count": 89,
   "id": "5dace61c-552c-40e9-be0d-26d251052c2d",
   "metadata": {},
   "outputs": [],
   "source": [
    "import pandas as pd\n",
    "import numpy as np\n",
    "import matplotlib.pyplot as plt"
   ]
  },
  {
   "cell_type": "markdown",
   "id": "15d15bc0-2849-474b-a3a1-5e2728ef50b1",
   "metadata": {},
   "source": [
    "Importing date and dropping features uncorrelated with survival outcome"
   ]
  },
  {
   "cell_type": "code",
   "execution_count": 53,
   "id": "c50f7f02-4239-4396-bae3-27b97bceb1ac",
   "metadata": {
    "tags": []
   },
   "outputs": [],
   "source": [
    "titanic_dataset = pd.read_csv(\"train.csv\")\n",
    "training_dataset = titanic_dataset.drop(columns=[\"Ticket\", 'Cabin', 'Name', 'PassengerId'])"
   ]
  },
  {
   "cell_type": "markdown",
   "id": "de476942-794c-499a-b307-019ea487e031",
   "metadata": {},
   "source": [
    "Droppig passangers with missing values"
   ]
  },
  {
   "cell_type": "code",
   "execution_count": 54,
   "id": "6e8f2157-7dab-40b9-8251-52223804ad6f",
   "metadata": {
    "tags": []
   },
   "outputs": [],
   "source": [
    "training_dataset = training_dataset.dropna(subset=[\"Embarked\", \"Age\"])"
   ]
  },
  {
   "cell_type": "markdown",
   "id": "197ee755-0dc7-46f1-866d-b48811f6422f",
   "metadata": {},
   "source": [
    "The values of Sex, Embarked (port of embarkation) and Cabin are transformed into integeres with the following correspondence:\n",
    "- Sex:\n",
    "    - `male` -> `0`\n",
    "    - `female` -> `1`\n",
    "- Embarked:\n",
    "    - `C` -> `0`\n",
    "    - `Q` -> `1`\n",
    "    - `S` -> `2`"
   ]
  },
  {
   "cell_type": "code",
   "execution_count": 55,
   "id": "28833fbd-d1fd-4e5b-984e-05534997aea6",
   "metadata": {},
   "outputs": [],
   "source": [
    "training_dataset['Sex'] = training_dataset['Sex'].replace(to_replace=[\"male\", \"female\"], value=[0, 1])\n",
    "training_dataset['Embarked'] = training_dataset['Embarked'].replace(to_replace=[\"C\", \"Q\", \"S\"], value=[0, 1, 2])"
   ]
  },
  {
   "cell_type": "markdown",
   "id": "7f2c95d6-c7dd-449d-8e5c-af8762c7e8e4",
   "metadata": {},
   "source": [
    "Transforming the dataset in numpy arrays to implement the gradient ascent"
   ]
  },
  {
   "cell_type": "code",
   "execution_count": null,
   "id": "bff7c58e-c2b8-4193-8829-fc659fbc2263",
   "metadata": {},
   "outputs": [],
   "source": [
    "data_matrix = training_dataset.drop(columns='Survived').to_numpy()\n",
    "target_array = training_dataset['Survived'].to_numpy().reshape((-1, 1))\n",
    "\n",
    "# adding a columns for x0\n",
    "column_of_ones = np.ones(shape=(data_matrix.shape[0], 1))\n",
    "data_matrix = np.hstack((column_of_ones, data_matrix))"
   ]
  },
  {
   "cell_type": "markdown",
   "id": "d305ac2c-baf2-440b-a4f8-78141a8350bf",
   "metadata": {},
   "source": [
    "Defining the gradient ascent functions. \\\n",
    "Ho modificato `log_lik_deriv` per compatibilita dimensionali"
   ]
  },
  {
   "cell_type": "code",
   "execution_count": 119,
   "id": "664e4cf3-e94c-4966-b685-421d772b9b64",
   "metadata": {},
   "outputs": [],
   "source": [
    "def sigmoid(x):\n",
    "    '''\n",
    "    Function to compute the sigmoid of a given input x.\n",
    "    \n",
    "    Input:\n",
    "    x: it's the input data matrix. The shape is (N, H)\n",
    "\n",
    "    Output:\n",
    "    g: The sigmoid of the input x\n",
    "    '''\n",
    "    g=1/(1+np.exp(-x))\n",
    "    return g\n",
    "\n",
    "def log_likelihood(theta,features,target):\n",
    "    '''\n",
    "    Function to compute the log likehood of theta according to data x and label y\n",
    "    \n",
    "    Input:\n",
    "    theta: it's the model parameter matrix.\n",
    "    features: it's the input data matrix. The shape is (N, H)\n",
    "    target: the label array\n",
    "    \n",
    "    Output:\n",
    "    log_g: the log likehood of theta according to data x and label y\n",
    "    '''\n",
    "      \n",
    "    log_l=((target*np.log(sigmoid(features @ theta))+(1-target)*np.log(1-sigmoid(features @ theta))).sum())/len(features)\n",
    "\n",
    "    return log_l\n",
    "\n",
    "\n",
    "def predictions(features, theta):\n",
    "    '''\n",
    "    Function to compute the predictions for the input features\n",
    "    \n",
    "    Input:\n",
    "    theta: it's the model parameter matrix.\n",
    "    features: it's the input data matrix. The shape is (N, H)\n",
    "    \n",
    "    Output:\n",
    "    preds: the predictions of the input features\n",
    "    '''\n",
    "      \n",
    "    response=sigmoid(features @ theta)\n",
    "    preds = np.where(response >=0.5, 1, 0)\n",
    "    return preds\n",
    "\n",
    "\n",
    "def update_theta(theta, target, preds, features, lr):\n",
    "    '''\n",
    "    Function to compute the gradient of the log likelihood\n",
    "    and then return the updated weights\n",
    "\n",
    "    Input:\n",
    "    theta: the model parameter matrix.\n",
    "    target: the label array\n",
    "    preds: the predictions of the input features\n",
    "    features: it's the input data matrix. The shape is (N, H)\n",
    "    lr: the learning rate\n",
    "    \n",
    "    Output:\n",
    "    theta: the updated model parameter matrix.\n",
    "    '''\n",
    "    \n",
    "    # (712, 1) @ (712, 8)\n",
    "    log_lik_deriv=(((target_array - sigmoid(data_matrix @ theta0)).transpose() @ data_matrix) / len(data_matrix)).transpose()\n",
    "    theta=theta+lr*log_lik_deriv\n",
    "    return theta \n",
    "\n",
    "def gradient_ascent(theta, features, target, lr, num_steps):\n",
    "    '''\n",
    "    Function to execute the gradient ascent algorithm\n",
    "\n",
    "    Input:\n",
    "    theta: the model parameter matrix.\n",
    "    target: the label array\n",
    "    num_steps: the number of iterations \n",
    "    features: the input data matrix. The shape is (N, H)\n",
    "    lr: the learning rate\n",
    "    \n",
    "    Output:\n",
    "    theta: the final model parameter matrix.\n",
    "    log_likelihood_history: the values of the log likelihood during the process\n",
    "    '''\n",
    "\n",
    "    log_likelihood_history = np.zeros(num_steps)\n",
    "    \n",
    "    \n",
    "    for step in range(num_steps):\n",
    "      \n",
    "        log_likelihood_history[step]=log_likelihood(theta,features,target)\n",
    "        preds=predictions(features, theta)\n",
    "        theta=update_theta(theta, target, preds, features, lr)\n",
    "    \n",
    "    return theta, log_likelihood_history\n"
   ]
  },
  {
   "cell_type": "markdown",
   "id": "d3e1a0e7-67bf-4a1a-86f8-cb5c995d28b4",
   "metadata": {},
   "source": [
    "Implementing the method"
   ]
  },
  {
   "cell_type": "code",
   "execution_count": 124,
   "id": "95c94624-7899-4e2a-a779-473c1d1c4183",
   "metadata": {
    "colab": {
     "base_uri": "https://localhost:8080/"
    },
    "id": "AOsnN7u6rZop",
    "outputId": "3b6606e5-c40c-4630-a05f-9fa51988d898",
    "tags": []
   },
   "outputs": [
    {
     "name": "stdout",
     "output_type": "stream",
     "text": [
      "[[-4.77528090e+00]\n",
      " [-1.80126404e+01]\n",
      " [ 4.59971910e+00]\n",
      " [-1.70850772e+02]\n",
      " [-2.80898876e+00]\n",
      " [-7.02247191e-02]\n",
      " [ 1.80378371e+02]\n",
      " [-1.10955056e+01]]\n"
     ]
    },
    {
     "name": "stderr",
     "output_type": "stream",
     "text": [
      "/tmp/ipykernel_1498/3824970667.py:27: RuntimeWarning: divide by zero encountered in log\n",
      "  log_l=((target*np.log(sigmoid(features @ theta))+(1-target)*np.log(1-sigmoid(features @ theta))).sum())/len(features)\n",
      "/tmp/ipykernel_1498/3824970667.py:27: RuntimeWarning: invalid value encountered in multiply\n",
      "  log_l=((target*np.log(sigmoid(features @ theta))+(1-target)*np.log(1-sigmoid(features @ theta))).sum())/len(features)\n",
      "/tmp/ipykernel_1498/3824970667.py:11: RuntimeWarning: overflow encountered in exp\n",
      "  g=1/(1+np.exp(-x))\n"
     ]
    }
   ],
   "source": [
    "# Initialize theta0\n",
    "theta0 = np.zeros((data_matrix.shape[1], 1))\n",
    "\n",
    "# Run Gradient Ascent method\n",
    "n_iter=1000\n",
    "theta_final, log_l_history = gradient_ascent(theta0, data_matrix, target_array, lr=0.05 , num_steps=n_iter)\n",
    "print(theta_final)\n"
   ]
  },
  {
   "cell_type": "markdown",
   "id": "4ae9c2d2-284d-4ea7-aa23-b846e12b1228",
   "metadata": {
    "id": "MusdHuGZ3uGC"
   },
   "source": [
    "Let's plot the log likelihood over iterations\n"
   ]
  },
  {
   "cell_type": "code",
   "execution_count": 125,
   "id": "233a57ea-81ad-4a30-81a6-7f4e7e2b6011",
   "metadata": {
    "colab": {
     "base_uri": "https://localhost:8080/",
     "height": 279
    },
    "id": "pc03eNeqrhkT",
    "outputId": "b89c6414-92d7-4052-b686-d33f1c54d697"
   },
   "outputs": [
    {
     "data": {
      "image/png": "[encoded data removed]",
      "text/plain": [
       "<Figure size 432x288 with 1 Axes>"
      ]
     },
     "metadata": {
      "needs_background": "light"
     },
     "output_type": "display_data"
    }
   ],
   "source": [
    "fig,ax = plt.subplots(num=2)\n",
    "\n",
    "ax.set_ylabel('l(Theta)')\n",
    "ax.set_xlabel('Iterations')\n",
    "_=ax.plot(range(len(log_l_history)),log_l_history,'b.')"
   ]
  }
 ],
 "metadata": {
  "kernelspec": {
   "display_name": "Python 3 (ipykernel)",
   "language": "python",
   "name": "python3"
  },
  "language_info": {
   "codemirror_mode": {
    "name": "ipython",
    "version": 3
   },
   "file_extension": ".py",
   "mimetype": "text/x-python",
   "name": "python",
   "nbconvert_exporter": "python",
   "pygments_lexer": "ipython3",
   "version": "3.9.9"
  }
 },
 "nbformat": 4,
 "nbformat_minor": 5
}

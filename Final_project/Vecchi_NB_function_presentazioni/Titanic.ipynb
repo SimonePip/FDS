{
 "cells": [
  {
   "cell_type": "markdown",
   "id": "54ea2afe-5fe8-41bc-82dd-ca7bc2d9a502",
   "metadata": {},
   "source": [
    "# Gradient descent VS Runge-Kutta"
   ]
  },
  {
   "cell_type": "code",
   "execution_count": 1,
   "id": "5dace61c-552c-40e9-be0d-26d251052c2d",
   "metadata": {
    "tags": []
   },
   "outputs": [],
   "source": [
    "import pandas as pd\n",
    "import numpy as np\n",
    "import matplotlib.pyplot as plt\n",
    "from gradient_ascent_functions import * # the gradient ascent functions"
   ]
  },
  {
   "cell_type": "markdown",
   "id": "4f473fe3-42eb-4867-9dd6-e60c6f21514f",
   "metadata": {
    "tags": []
   },
   "source": [
    "## Gradient Descent method"
   ]
  },
  {
   "cell_type": "markdown",
   "id": "59343f1b-f13e-4a61-a368-8084efc86903",
   "metadata": {},
   "source": [
    "### Processing the test dataset"
   ]
  },
  {
   "cell_type": "markdown",
   "id": "322cf72c-4bac-465d-9522-c5ea04a9e701",
   "metadata": {},
   "source": [
    "The values of `Sex` and `Embarked` (port of embarkation) are transformed into integeres with the following correspondence:\n",
    "- Sex:\n",
    "    - `male` -> `0`\n",
    "    - `female` -> `1`\n",
    "- Embarked:\n",
    "    - `C` -> `-1`\n",
    "    - `Q` -> `0`\n",
    "    - `S` -> `1`"
   ]
  },
  {
   "cell_type": "code",
   "execution_count": 2,
   "id": "8f5271a0-4f7d-45fb-880d-b59a23bdb6a0",
   "metadata": {},
   "outputs": [
    {
     "data": {
      "text/html": [
       "<div>\n",
       "<style scoped>\n",
       "    .dataframe tbody tr th:only-of-type {\n",
       "        vertical-align: middle;\n",
       "    }\n",
       "\n",
       "    .dataframe tbody tr th {\n",
       "        vertical-align: top;\n",
       "    }\n",
       "\n",
       "    .dataframe thead th {\n",
       "        text-align: right;\n",
       "    }\n",
       "</style>\n",
       "<table border=\"1\" class=\"dataframe\">\n",
       "  <thead>\n",
       "    <tr style=\"text-align: right;\">\n",
       "      <th></th>\n",
       "      <th>Survived</th>\n",
       "      <th>Pclass</th>\n",
       "      <th>Sex</th>\n",
       "      <th>Age</th>\n",
       "      <th>SibSp</th>\n",
       "      <th>Parch</th>\n",
       "      <th>Fare</th>\n",
       "      <th>Embarked</th>\n",
       "    </tr>\n",
       "    <tr>\n",
       "      <th>PassengerId</th>\n",
       "      <th></th>\n",
       "      <th></th>\n",
       "      <th></th>\n",
       "      <th></th>\n",
       "      <th></th>\n",
       "      <th></th>\n",
       "      <th></th>\n",
       "      <th></th>\n",
       "    </tr>\n",
       "  </thead>\n",
       "  <tbody>\n",
       "    <tr>\n",
       "      <th>1</th>\n",
       "      <td>0</td>\n",
       "      <td>3</td>\n",
       "      <td>0</td>\n",
       "      <td>-0.096239</td>\n",
       "      <td>1</td>\n",
       "      <td>0</td>\n",
       "      <td>-0.048707</td>\n",
       "      <td>1</td>\n",
       "    </tr>\n",
       "    <tr>\n",
       "      <th>2</th>\n",
       "      <td>1</td>\n",
       "      <td>1</td>\n",
       "      <td>1</td>\n",
       "      <td>0.103761</td>\n",
       "      <td>1</td>\n",
       "      <td>0</td>\n",
       "      <td>0.076277</td>\n",
       "      <td>-1</td>\n",
       "    </tr>\n",
       "    <tr>\n",
       "      <th>3</th>\n",
       "      <td>1</td>\n",
       "      <td>3</td>\n",
       "      <td>1</td>\n",
       "      <td>-0.046239</td>\n",
       "      <td>0</td>\n",
       "      <td>0</td>\n",
       "      <td>-0.047390</td>\n",
       "      <td>1</td>\n",
       "    </tr>\n",
       "    <tr>\n",
       "      <th>4</th>\n",
       "      <td>1</td>\n",
       "      <td>1</td>\n",
       "      <td>1</td>\n",
       "      <td>0.066261</td>\n",
       "      <td>1</td>\n",
       "      <td>0</td>\n",
       "      <td>0.040786</td>\n",
       "      <td>1</td>\n",
       "    </tr>\n",
       "    <tr>\n",
       "      <th>5</th>\n",
       "      <td>0</td>\n",
       "      <td>3</td>\n",
       "      <td>0</td>\n",
       "      <td>0.066261</td>\n",
       "      <td>0</td>\n",
       "      <td>0</td>\n",
       "      <td>-0.047146</td>\n",
       "      <td>1</td>\n",
       "    </tr>\n",
       "  </tbody>\n",
       "</table>\n",
       "</div>"
      ],
      "text/plain": [
       "             Survived  Pclass  Sex       Age  SibSp  Parch      Fare  Embarked\n",
       "PassengerId                                                                   \n",
       "1                   0       3    0 -0.096239      1      0 -0.048707         1\n",
       "2                   1       1    1  0.103761      1      0  0.076277        -1\n",
       "3                   1       3    1 -0.046239      0      0 -0.047390         1\n",
       "4                   1       1    1  0.066261      1      0  0.040786         1\n",
       "5                   0       3    0  0.066261      0      0 -0.047146         1"
      ]
     },
     "execution_count": 2,
     "metadata": {},
     "output_type": "execute_result"
    }
   ],
   "source": [
    "# Importing the data and dropping features uncorrelated with survival outcome\n",
    "unprocessed_training_dataset = pd.read_csv(\"train.csv\", index_col='PassengerId')\n",
    "training_dataset = unprocessed_training_dataset.drop(columns=[\"Ticket\", 'Cabin', 'Name'])\n",
    "\n",
    "#Normalizing with the mean the Age and Fare values\n",
    "training_dataset['Age'] = ((training_dataset['Age'] - training_dataset['Age'].mean()) / training_dataset['Age'].max())\n",
    "training_dataset['Fare'] = ((training_dataset['Fare'] - training_dataset['Fare'].mean()) / training_dataset['Fare'].max())\n",
    "\n",
    "# Droppig passangers with missing values\n",
    "training_dataset = training_dataset.dropna(subset=[\"Embarked\", \"Age\"])\n",
    "\n",
    "# Discretizing the `Sex` and `Embarked` values\n",
    "training_dataset['Sex'] = training_dataset['Sex'].replace(to_replace=[\"male\", \"female\"], value=[0, 1])\n",
    "training_dataset['Embarked'] = training_dataset['Embarked'].replace(to_replace=[\"C\", \"Q\", \"S\"], value=[-1, 0, 1])\n",
    "\n",
    "# Transforming the dataset in numpy arrays to implement the gradient ascent\n",
    "training_data_matrix = training_dataset.drop(columns='Survived').to_numpy()\n",
    "target_array = training_dataset['Survived'].to_numpy().reshape((-1, 1))\n",
    "\n",
    "# adding a column on ones for to the data matrix corresponding to the coventional x0 feture\n",
    "column_of_ones = np.ones(shape=(training_data_matrix.shape[0], 1))\n",
    "training_data_matrix = np.hstack((column_of_ones, training_data_matrix))\n",
    "\n",
    "# Visualizing the first elements of the training_dataset\n",
    "training_dataset.head()"
   ]
  },
  {
   "cell_type": "markdown",
   "id": "d3e1a0e7-67bf-4a1a-86f8-cb5c995d28b4",
   "metadata": {
    "tags": []
   },
   "source": [
    "### Computing the paramenters"
   ]
  },
  {
   "cell_type": "code",
   "execution_count": 3,
   "id": "7f82aeb3-c197-40d3-bf32-6ed595b5f282",
   "metadata": {
    "colab": {
     "base_uri": "https://localhost:8080/",
     "height": 279
    },
    "id": "pc03eNeqrhkT",
    "outputId": "b89c6414-92d7-4052-b686-d33f1c54d697"
   },
   "outputs": [
    {
     "data": {
      "image/png": "[encoded data removed]",
      "text/plain": [
       "<Figure size 432x288 with 1 Axes>"
      ]
     },
     "metadata": {
      "needs_background": "light"
     },
     "output_type": "display_data"
    }
   ],
   "source": [
    "# Initialize theta0\n",
    "theta0 = np.zeros((training_data_matrix.shape[1], 1)) # 1dimensional verical array of shape (8, 1) \n",
    "\n",
    "# Run Gradient Ascent method\n",
    "n_iter=2000\n",
    "theta_final, log_l_history = gradient_ascent(theta0, training_data_matrix, target_array, lr=.05 , num_steps=n_iter)\n",
    "\n",
    "# Plotting the log likelihood over iterations\n",
    "fig,ax = plt.subplots(num=2)\n",
    "ax.set_ylabel('l(Theta)')\n",
    "ax.set_xlabel('Iterations')\n",
    "_=ax.plot(range(len(log_l_history)),log_l_history,'b.')"
   ]
  },
  {
   "cell_type": "markdown",
   "id": "887ee5b6-4409-44da-9893-7f765e484620",
   "metadata": {},
   "source": [
    "### Processing the test set"
   ]
  },
  {
   "cell_type": "code",
   "execution_count": 4,
   "id": "75e7a9a3-3a34-42b8-b518-2848590688a9",
   "metadata": {},
   "outputs": [],
   "source": [
    "# Importing the data and dropping features uncorrelated with survival outcome\n",
    "unprocessed_test_dataset = pd.read_csv(\"test.csv\", index_col='PassengerId')\n",
    "test_dataset = unprocessed_test_dataset.drop(columns=[\"Ticket\", 'Cabin', 'Name'])\n",
    "\n",
    "#Normalizing with the mean the Age and Fare values\n",
    "test_dataset['Age'] = ((test_dataset['Age'] - test_dataset['Age'].mean()) / test_dataset['Age'].max())\n",
    "test_dataset['Fare'] = ((test_dataset['Fare'] - test_dataset['Fare'].mean()) / test_dataset['Fare'].max())\n",
    "\n",
    "# Droppig passangers with missing values\n",
    "test_dataset = test_dataset.dropna(subset=[\"Embarked\", \"Age\"])\n",
    "\n",
    "# Discretizing the `Sex` and `Embarked` values\n",
    "test_dataset['Sex'] = test_dataset['Sex'].replace(to_replace=[\"male\", \"female\"], value=[0, 1])\n",
    "test_dataset['Embarked'] = test_dataset['Embarked'].replace(to_replace=[\"C\", \"Q\", \"S\"], value=[-1, 0, 1])\n",
    "\n",
    "# Transforming the dataset in numpy arrays to implement the gradient ascent\n",
    "test_data_matrix = test_dataset.to_numpy()\n",
    "\n",
    "# adding a column on ones for to the data matrix corresponding to the coventional x0 feture\n",
    "column_of_ones = np.ones(shape=(test_data_matrix.shape[0], 1))\n",
    "test_data_matrix = np.hstack((column_of_ones, test_data_matrix))"
   ]
  },
  {
   "cell_type": "markdown",
   "id": "246ccc6e-0a29-4e70-839a-d612868db762",
   "metadata": {},
   "source": [
    "### Computing the predictions"
   ]
  },
  {
   "cell_type": "code",
   "execution_count": 5,
   "id": "8ba34bce-3b09-40ee-8408-1f3182aff723",
   "metadata": {},
   "outputs": [
    {
     "data": {
      "text/html": [
       "<div>\n",
       "<style scoped>\n",
       "    .dataframe tbody tr th:only-of-type {\n",
       "        vertical-align: middle;\n",
       "    }\n",
       "\n",
       "    .dataframe tbody tr th {\n",
       "        vertical-align: top;\n",
       "    }\n",
       "\n",
       "    .dataframe thead th {\n",
       "        text-align: right;\n",
       "    }\n",
       "</style>\n",
       "<table border=\"1\" class=\"dataframe\">\n",
       "  <thead>\n",
       "    <tr style=\"text-align: right;\">\n",
       "      <th></th>\n",
       "      <th>Survived</th>\n",
       "      <th>Pclass</th>\n",
       "      <th>Sex</th>\n",
       "      <th>Age</th>\n",
       "      <th>SibSp</th>\n",
       "      <th>Parch</th>\n",
       "      <th>Fare</th>\n",
       "      <th>Embarked</th>\n",
       "    </tr>\n",
       "    <tr>\n",
       "      <th>PassengerId</th>\n",
       "      <th></th>\n",
       "      <th></th>\n",
       "      <th></th>\n",
       "      <th></th>\n",
       "      <th></th>\n",
       "      <th></th>\n",
       "      <th></th>\n",
       "      <th></th>\n",
       "    </tr>\n",
       "  </thead>\n",
       "  <tbody>\n",
       "    <tr>\n",
       "      <th>892</th>\n",
       "      <td>0</td>\n",
       "      <td>3</td>\n",
       "      <td>0</td>\n",
       "      <td>0.055624</td>\n",
       "      <td>0</td>\n",
       "      <td>0</td>\n",
       "      <td>-0.054258</td>\n",
       "      <td>0</td>\n",
       "    </tr>\n",
       "    <tr>\n",
       "      <th>893</th>\n",
       "      <td>0</td>\n",
       "      <td>3</td>\n",
       "      <td>1</td>\n",
       "      <td>0.220097</td>\n",
       "      <td>1</td>\n",
       "      <td>0</td>\n",
       "      <td>-0.055877</td>\n",
       "      <td>1</td>\n",
       "    </tr>\n",
       "    <tr>\n",
       "      <th>894</th>\n",
       "      <td>0</td>\n",
       "      <td>2</td>\n",
       "      <td>0</td>\n",
       "      <td>0.417466</td>\n",
       "      <td>0</td>\n",
       "      <td>0</td>\n",
       "      <td>-0.050631</td>\n",
       "      <td>0</td>\n",
       "    </tr>\n",
       "    <tr>\n",
       "      <th>895</th>\n",
       "      <td>0</td>\n",
       "      <td>3</td>\n",
       "      <td>0</td>\n",
       "      <td>-0.043060</td>\n",
       "      <td>0</td>\n",
       "      <td>0</td>\n",
       "      <td>-0.052632</td>\n",
       "      <td>1</td>\n",
       "    </tr>\n",
       "    <tr>\n",
       "      <th>896</th>\n",
       "      <td>1</td>\n",
       "      <td>3</td>\n",
       "      <td>1</td>\n",
       "      <td>-0.108850</td>\n",
       "      <td>1</td>\n",
       "      <td>1</td>\n",
       "      <td>-0.045556</td>\n",
       "      <td>1</td>\n",
       "    </tr>\n",
       "  </tbody>\n",
       "</table>\n",
       "</div>"
      ],
      "text/plain": [
       "             Survived  Pclass  Sex       Age  SibSp  Parch      Fare  Embarked\n",
       "PassengerId                                                                   \n",
       "892                 0       3    0  0.055624      0      0 -0.054258         0\n",
       "893                 0       3    1  0.220097      1      0 -0.055877         1\n",
       "894                 0       2    0  0.417466      0      0 -0.050631         0\n",
       "895                 0       3    0 -0.043060      0      0 -0.052632         1\n",
       "896                 1       3    1 -0.108850      1      1 -0.045556         1"
      ]
     },
     "execution_count": 5,
     "metadata": {},
     "output_type": "execute_result"
    }
   ],
   "source": [
    "# Computing the predictions and storing them into an array\n",
    "survived_array = predictions(test_data_matrix, theta_final).flatten()\n",
    "\n",
    "# Inserting the predictions into the Test Dataframe\n",
    "Survived_series = pd.Series(data=survived_array, index=test_dataset.index)\n",
    "test_dataset.insert(0, \"Survived\", Survived_series)\n",
    "test_dataset.head()"
   ]
  }
 ],
 "metadata": {
  "kernelspec": {
   "display_name": "Python 3 (ipykernel)",
   "language": "python",
   "name": "python3"
  },
  "language_info": {
   "codemirror_mode": {
    "name": "ipython",
    "version": 3
   },
   "file_extension": ".py",
   "mimetype": "text/x-python",
   "name": "python",
   "nbconvert_exporter": "python",
   "pygments_lexer": "ipython3",
   "version": "3.9.9"
  }
 },
 "nbformat": 4,
 "nbformat_minor": 5
}
